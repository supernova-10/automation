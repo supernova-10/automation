{
 "cells": [
  {
   "cell_type": "markdown",
   "metadata": {},
   "source": [
    "To automate the task of creating passwords and accounts for all of these new hires"
   ]
  },
  {
   "cell_type": "code",
   "execution_count": 2,
   "metadata": {},
   "outputs": [],
   "source": [
    "import csv # read and write csv files\n",
    "import secrets # generates random passwords\n",
    "import subprocess #This calls the useradd command, which creates and adds each user account.\n",
    "from pathlib import Path #This library helps to locate the data files for each user account.\n",
    "import pandas as pd"
   ]
  },
  {
   "cell_type": "code",
   "execution_count": 3,
   "metadata": {},
   "outputs": [],
   "source": [
    "# df = pd.read_csv(\"users_in.csv\")\n",
    "cwd = Path(r\"D:\\nour\\year4\\automation\\EMPPasswords\\data\")\n",
    "input_file_path = cwd / \"users_in.csv\"\n",
    "output_file_path = cwd / \"users_out.csv\""
   ]
  },
  {
   "cell_type": "code",
   "execution_count": 4,
   "metadata": {},
   "outputs": [],
   "source": [
    "with open(input_file_path, \"r\") as file_input, open(output_file_path, \"w\") as file_output:\n",
    "    reader = csv.DictReader(file_input)\n",
    "    fieldnames = reader.fieldnames  # Get fieldnames from input file\n",
    "    \n",
    "    writer = csv.DictWriter(file_output, fieldnames=fieldnames)\n",
    "    writer.writeheader()\n",
    "    for user in reader: \n",
    "        user[\"password\"] = secrets.token_hex(8)\n",
    "        useradd_cmd = [\"/sbin/useradd\",\n",
    "                        \"-c\", user[\"real_name\"],\n",
    "                        \"-m\",\n",
    "                        \"-G\", \"users\",\n",
    "                        \"-p\", user[\"password\"],\n",
    "                        user[\"username\"]]\n",
    "        # Perform operations with the user data or save it to the output file\n",
    "        writer.writerow(user)\n"
   ]
  },
  {
   "cell_type": "code",
   "execution_count": null,
   "metadata": {},
   "outputs": [],
   "source": []
  }
 ],
 "metadata": {
  "kernelspec": {
   "display_name": "Python 3",
   "language": "python",
   "name": "python3"
  },
  "language_info": {
   "codemirror_mode": {
    "name": "ipython",
    "version": 3
   },
   "file_extension": ".py",
   "mimetype": "text/x-python",
   "name": "python",
   "nbconvert_exporter": "python",
   "pygments_lexer": "ipython3",
   "version": "3.11.7"
  }
 },
 "nbformat": 4,
 "nbformat_minor": 2
}
